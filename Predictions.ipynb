{
 "cells": [
  {
   "cell_type": "code",
   "execution_count": 71,
   "id": "d38d2f7b",
   "metadata": {},
   "outputs": [],
   "source": [
    "import numpy as np\n",
    "import pandas as pd\n",
    "from pathlib import Path\n",
    "from sklearn.metrics import accuracy_score \n",
    "from sklearn.model_selection import train_test_split\n",
    "from sklearn.linear_model import LinearRegression\n",
    "from sklearn.ensemble import RandomForestRegressor"
   ]
  },
  {
   "cell_type": "code",
   "execution_count": 72,
   "id": "1e15d077",
   "metadata": {},
   "outputs": [],
   "source": [
    "df = pd.read_csv(Path('Resources/feature_engineered_data.csv'))\n",
    "#df.info()"
   ]
  },
  {
   "cell_type": "code",
   "execution_count": 73,
   "id": "7e2e8903",
   "metadata": {},
   "outputs": [],
   "source": [
    "y = df['Sales']\n",
    "x = df.drop(columns=['Sales', 'Date', 'DayOfWeek', 'IsWeekend', 'IsWeekday','StateHoliday_0','StateHoliday_a','StateHoliday_b', 'StateHoliday_c', 'PromoInterval'])"
   ]
  },
  {
   "cell_type": "code",
   "execution_count": 74,
   "id": "60f404a6",
   "metadata": {},
   "outputs": [],
   "source": [
    "x_train, x_test, y_train, y_test = train_test_split(x, y, random_state=1)\n",
    "x_test_copy=x_test.copy()"
   ]
  },
  {
   "cell_type": "code",
   "execution_count": 75,
   "id": "d1fd769c",
   "metadata": {},
   "outputs": [
    {
     "data": {
      "text/plain": [
       "0.8997659612217078"
      ]
     },
     "execution_count": 75,
     "metadata": {},
     "output_type": "execute_result"
    }
   ],
   "source": [
    "model = LinearRegression()\n",
    "model.fit(x_train, y_train)\n",
    "test_predictions = model.predict(x_test)\n",
    "pred= pd.DataFrame({'Predictions': test_predictions, 'Actual': y_test})\n",
    "model.score(x_test, y_test)"
   ]
  },
  {
   "cell_type": "code",
   "execution_count": 76,
   "id": "f1d8e429",
   "metadata": {},
   "outputs": [
    {
     "data": {
      "text/plain": [
       "Predictions    1.470600e+09\n",
       "Actual         1.470656e+09\n",
       "dtype: float64"
      ]
     },
     "execution_count": 76,
     "metadata": {},
     "output_type": "execute_result"
    }
   ],
   "source": [
    "# Test predictions\n",
    "\n",
    "test_predictions = model.predict(x_test)\n",
    "pred= pd.DataFrame({'Predictions': test_predictions, 'Actual': y_test})\n",
    "pred.sum()"
   ]
  },
  {
   "cell_type": "code",
   "execution_count": 77,
   "id": "bbcb374f",
   "metadata": {},
   "outputs": [
    {
     "data": {
      "text/plain": [
       "Predictions    1.470600e+09\n",
       "Actual         1.470656e+09\n",
       "dtype: float64"
      ]
     },
     "execution_count": 77,
     "metadata": {},
     "output_type": "execute_result"
    }
   ],
   "source": [
    "# Predict 2016 sales with no changes other than date\n",
    "x_test=x_test_copy.copy()\n",
    "x_test['Year'].apply(lambda x:2016 if x==2015 else x)\n",
    "test_predictions = model.predict(x_test)\n",
    "pred= pd.DataFrame({'Predictions': test_predictions, 'Actual': y_test})\n",
    "pred.sum()\n"
   ]
  },
  {
   "cell_type": "code",
   "execution_count": 78,
   "id": "041ffbec",
   "metadata": {},
   "outputs": [
    {
     "data": {
      "text/plain": [
       "Predictions    1.368305e+09\n",
       "Actual         1.470656e+09\n",
       "dtype: float64"
      ]
     },
     "execution_count": 78,
     "metadata": {},
     "output_type": "execute_result"
    }
   ],
   "source": [
    "#predict sales where promo has been removed \n",
    "x_test=x_test_copy.copy()\n",
    "x_test['Promo']=0\n",
    "test_predictions = model.predict(x_test)\n",
    "pred= pd.DataFrame({'Predictions': test_predictions, 'Actual': y_test})\n",
    "pred.sum()"
   ]
  },
  {
   "cell_type": "code",
   "execution_count": null,
   "id": "3408da4e",
   "metadata": {},
   "outputs": [],
   "source": [
    "model = RandomForestRegressor(n_estimators=100)\n",
    "model.fit(x_train, y_train)\n",
    "test_predictions = model.predict(x_test)\n",
    "pred= pd.DataFrame({'Predictions': test_predictions, 'Actual': y_test})\n",
    "model.score(x_test, y_test)"
   ]
  },
  {
   "cell_type": "code",
   "execution_count": 27,
   "id": "c9523c60",
   "metadata": {},
   "outputs": [
    {
     "data": {
      "text/plain": [
       "0.8997659612217078"
      ]
     },
     "execution_count": 27,
     "metadata": {},
     "output_type": "execute_result"
    }
   ],
   "source": []
  },
  {
   "cell_type": "code",
   "execution_count": null,
   "id": "b5b80a69",
   "metadata": {},
   "outputs": [],
   "source": []
  }
 ],
 "metadata": {
  "kernelspec": {
   "display_name": "Python 3 (ipykernel)",
   "language": "python",
   "name": "python3"
  },
  "language_info": {
   "codemirror_mode": {
    "name": "ipython",
    "version": 3
   },
   "file_extension": ".py",
   "mimetype": "text/x-python",
   "name": "python",
   "nbconvert_exporter": "python",
   "pygments_lexer": "ipython3",
   "version": "3.10.9"
  }
 },
 "nbformat": 4,
 "nbformat_minor": 5
}
