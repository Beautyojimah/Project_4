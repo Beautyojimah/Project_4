{
 "cells": [
  {
   "cell_type": "code",
   "execution_count": 1,
   "id": "c4bb28b5",
   "metadata": {},
   "outputs": [],
   "source": [
    "import pandas as pd\n",
    "import sqlite3"
   ]
  },
  {
   "cell_type": "code",
   "execution_count": 2,
   "id": "b1e10089",
   "metadata": {},
   "outputs": [],
   "source": [
    "#Create a connection to sqlite\n",
    "conn = sqlite3.connect('sales_data.db')"
   ]
  },
  {
   "cell_type": "code",
   "execution_count": 3,
   "id": "5ea115e8",
   "metadata": {},
   "outputs": [],
   "source": [
    "#  Load both CSVs into DataFrames\n",
    "all_data_df = pd.read_csv('final_reduced_data.csv')\n",
    "eval_data_df = pd.read_csv('test_final_reduced_data.csv')"
   ]
  },
  {
   "cell_type": "code",
   "execution_count": 4,
   "id": "c7a3ff73",
   "metadata": {},
   "outputs": [],
   "source": [
    "# Add a flag column\n",
    "all_data_df['is_evaluation_data'] = False\n",
    "eval_data_df['is_evaluation_data'] = True\n",
    "\n",
    "#Concatenate both DataFrames\n",
    "combined_df = pd.concat([all_data_df, eval_data_df])"
   ]
  },
  {
   "cell_type": "code",
   "execution_count": 5,
   "id": "d7b5119b",
   "metadata": {},
   "outputs": [],
   "source": [
    "\n",
    "#Store the combined DataFrame into a SQL database\n",
    "combined_df.to_sql('SalesData', conn, if_exists='replace', index=False)\n",
    "conn.close()"
   ]
  },
  {
   "cell_type": "code",
   "execution_count": null,
   "id": "fabca2a5",
   "metadata": {},
   "outputs": [],
   "source": []
  }
 ],
 "metadata": {
  "kernelspec": {
   "display_name": "Python 3 (ipykernel)",
   "language": "python",
   "name": "python3"
  },
  "language_info": {
   "codemirror_mode": {
    "name": "ipython",
    "version": 3
   },
   "file_extension": ".py",
   "mimetype": "text/x-python",
   "name": "python",
   "nbconvert_exporter": "python",
   "pygments_lexer": "ipython3",
   "version": "3.9.16"
  }
 },
 "nbformat": 4,
 "nbformat_minor": 5
}
